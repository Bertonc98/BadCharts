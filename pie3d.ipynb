{
 "cells": [
  {
   "cell_type": "code",
   "execution_count": null,
   "metadata": {},
   "outputs": [],
   "source": [
    "#    This file is part of BadChart project (https://github.com/Bertonc98/BadCharts)\n",
    "#    Copyright (C) 2020  Francesca Amendola, Alberto Bertoncini, Alessandro Dell'Oste"
   ]
  },
  {
   "cell_type": "code",
   "execution_count": 1,
   "metadata": {},
   "outputs": [],
   "source": [
    "import pandas as pd\n",
    "import numpy as np\n",
    "import matplotlib.pyplot as plt\n",
    "import csv\n",
    "from brokenaxes import brokenaxes\n",
    "from matplotlib.gridspec import GridSpec\n",
    "import scipy.stats as st"
   ]
  },
  {
   "cell_type": "code",
   "execution_count": 2,
   "metadata": {},
   "outputs": [],
   "source": [
    "from pychartdir import *"
   ]
  },
  {
   "cell_type": "code",
   "execution_count": 3,
   "metadata": {},
   "outputs": [
    {
     "data": {
      "text/plain": [
       "[388, 216, 116]"
      ]
     },
     "execution_count": 3,
     "metadata": {},
     "output_type": "execute_result"
    }
   ],
   "source": [
    "data=pd.read_csv(\"csv/heroes.csv\", sep=';', decimal='.')\n",
    "publisher=data['Publisher']\n",
    "label=['Marvel Comics', 'DC Comics', 'Other']\n",
    "counter=[]\n",
    "for i in label:\n",
    "    if i=='Other':\n",
    "        counter.append(publisher.count()-sum(counter))\n",
    "    else:\n",
    "        counter.append((publisher==i).astype(int).sum())\n",
    "counter"
   ]
  },
  {
   "cell_type": "code",
   "execution_count": 4,
   "metadata": {},
   "outputs": [
    {
     "data": {
      "text/plain": [
       "1"
      ]
     },
     "execution_count": 4,
     "metadata": {},
     "output_type": "execute_result"
    }
   ],
   "source": [
    "\n",
    "# Create a PieChart object of size 360 x 300 pixels\n",
    "c = PieChart(500, 400)\n",
    "\n",
    "# Set the center of the pie at (180, 140) and the radius to 100 pixels\n",
    "c.setPieSize(250, 200, 120)\n",
    "\n",
    "# Add a title to the pie chart\n",
    "c.addTitle(\"Comics Publisher\")\n",
    "\n",
    "# Draw the pie in 3D\n",
    "c.set3D(angle=80, depth=30)\n",
    "\n",
    "\n",
    "# Set the pie data and the pie labels\n",
    "c.setData([388, 216], [\"Marvel\", \"DC\"])\n",
    "c.setStartAngle(240)\n",
    "c.setLabelLayout(CircleLayout, 0)\n",
    "\n",
    "# Explode the 1st sector (index = 0)\n",
    "#c.setExplode(0)\n",
    "\n",
    "# Output the chart\n",
    "c.makeChart(\"img/publisher.png\")"
   ]
  }
 ],
 "metadata": {
  "kernelspec": {
   "display_name": "Python 3",
   "language": "python",
   "name": "python3"
  },
  "language_info": {
   "codemirror_mode": {
    "name": "ipython",
    "version": 3
   },
   "file_extension": ".py",
   "mimetype": "text/x-python",
   "name": "python",
   "nbconvert_exporter": "python",
   "pygments_lexer": "ipython3",
   "version": "3.8.2"
  }
 },
 "nbformat": 4,
 "nbformat_minor": 4
}
