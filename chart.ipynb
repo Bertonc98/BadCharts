{
 "cells": [
  {
   "cell_type": "code",
   "execution_count": 1,
   "metadata": {},
   "outputs": [],
   "source": [
    "import pandas as pd\n",
    "import numpy as np\n",
    "import matplotlib.pyplot as plt\n",
    "import csv\n",
    "from brokenaxes import brokenaxes\n",
    "from matplotlib.gridspec import GridSpec\n",
    "import scipy.stats as st"
   ]
  },
  {
   "cell_type": "code",
   "execution_count": 2,
   "metadata": {},
   "outputs": [],
   "source": [
    "data = df=pd.read_csv('heroes.csv', sep=';', decimal='.')\n",
    "df=data[(data['Height'].notna()) & (data['Weight'].notna())]\n",
    "names = df['Name']\n",
    "w=df['Weight']\n",
    "h=df['Height']"
   ]
  },
  {
   "cell_type": "code",
   "execution_count": 3,
   "metadata": {},
   "outputs": [
    {
     "data": {
      "image/png": "[encoded data removed]",
      "text/plain": [
       "<Figure size 432x288 with 1 Axes>"
      ]
     },
     "metadata": {
      "needs_background": "light"
     },
     "output_type": "display_data"
    }
   ],
   "source": [
    "plt.scatter(w,h)\n",
    "plt.xlabel(\"Weight\")\n",
    "plt.ylabel(\"Height\")\n",
    "plt.show()"
   ]
  },
  {
   "cell_type": "code",
   "execution_count": 4,
   "metadata": {},
   "outputs": [
    {
     "name": "stderr",
     "output_type": "stream",
     "text": [
      "C:\\Users\\Alberto\\anaconda3\\lib\\site-packages\\ipykernel_launcher.py:1: UserWarning: Boolean Series key will be reindexed to match DataFrame index.\n",
      "  \"\"\"Entry point for launching an IPython kernel.\n"
     ]
    },
    {
     "data": {
      "text/html": [
       "<div>\n",
       "<style scoped>\n",
       "    .dataframe tbody tr th:only-of-type {\n",
       "        vertical-align: middle;\n",
       "    }\n",
       "\n",
       "    .dataframe tbody tr th {\n",
       "        vertical-align: top;\n",
       "    }\n",
       "\n",
       "    .dataframe thead th {\n",
       "        text-align: right;\n",
       "    }\n",
       "</style>\n",
       "<table border=\"1\" class=\"dataframe\">\n",
       "  <thead>\n",
       "    <tr style=\"text-align: right;\">\n",
       "      <th></th>\n",
       "      <th>Name</th>\n",
       "      <th>Identity</th>\n",
       "      <th>Birth place</th>\n",
       "      <th>Publisher</th>\n",
       "      <th>Height</th>\n",
       "      <th>Weight</th>\n",
       "      <th>Gender</th>\n",
       "      <th>First appearance</th>\n",
       "      <th>Eye color</th>\n",
       "      <th>Hair color</th>\n",
       "      <th>Strength</th>\n",
       "      <th>Intelligence</th>\n",
       "    </tr>\n",
       "  </thead>\n",
       "  <tbody>\n",
       "    <tr>\n",
       "      <th>175</th>\n",
       "      <td>Sasquatch</td>\n",
       "      <td>Walter Langkowski</td>\n",
       "      <td>Edmonton, Alberta, Canada</td>\n",
       "      <td>Marvel Comics</td>\n",
       "      <td>305.02</td>\n",
       "      <td>900.70</td>\n",
       "      <td>M</td>\n",
       "      <td>NaN</td>\n",
       "      <td>Red</td>\n",
       "      <td>Orange</td>\n",
       "      <td>80.0</td>\n",
       "      <td>good</td>\n",
       "    </tr>\n",
       "    <tr>\n",
       "      <th>202</th>\n",
       "      <td>Red Hulk</td>\n",
       "      <td>Thaddeus E. Ross</td>\n",
       "      <td>NaN</td>\n",
       "      <td>Marvel Comics</td>\n",
       "      <td>213.98</td>\n",
       "      <td>630.09</td>\n",
       "      <td>M</td>\n",
       "      <td>2008.0</td>\n",
       "      <td>Yellow</td>\n",
       "      <td>Black</td>\n",
       "      <td>100.0</td>\n",
       "      <td>average</td>\n",
       "    </tr>\n",
       "    <tr>\n",
       "      <th>377</th>\n",
       "      <td>Juggernaut</td>\n",
       "      <td>Cain Marko</td>\n",
       "      <td>Berkeley, California</td>\n",
       "      <td>Marvel Comics</td>\n",
       "      <td>287.95</td>\n",
       "      <td>855.82</td>\n",
       "      <td>M</td>\n",
       "      <td>1965.0</td>\n",
       "      <td>Blue</td>\n",
       "      <td>Red</td>\n",
       "      <td>100.0</td>\n",
       "      <td>average</td>\n",
       "    </tr>\n",
       "    <tr>\n",
       "      <th>425</th>\n",
       "      <td>Hulk</td>\n",
       "      <td>Bruce Banner</td>\n",
       "      <td>Dayton, Ohio</td>\n",
       "      <td>Marvel Comics</td>\n",
       "      <td>244.40</td>\n",
       "      <td>630.90</td>\n",
       "      <td>M</td>\n",
       "      <td>1962.0</td>\n",
       "      <td>Green</td>\n",
       "      <td>Green</td>\n",
       "      <td>100.0</td>\n",
       "      <td>high</td>\n",
       "    </tr>\n",
       "    <tr>\n",
       "      <th>451</th>\n",
       "      <td>Groot</td>\n",
       "      <td>Groot</td>\n",
       "      <td>NaN</td>\n",
       "      <td>Marvel Comics</td>\n",
       "      <td>701.12</td>\n",
       "      <td>4.82</td>\n",
       "      <td>M</td>\n",
       "      <td>1960.0</td>\n",
       "      <td>Yellow</td>\n",
       "      <td>NaN</td>\n",
       "      <td>85.0</td>\n",
       "      <td>good</td>\n",
       "    </tr>\n",
       "    <tr>\n",
       "      <th>466</th>\n",
       "      <td>Giganta</td>\n",
       "      <td>Doris Zuel</td>\n",
       "      <td>NaN</td>\n",
       "      <td>DC Comics</td>\n",
       "      <td>62.65</td>\n",
       "      <td>630.80</td>\n",
       "      <td>F</td>\n",
       "      <td>1944.0</td>\n",
       "      <td>Green</td>\n",
       "      <td>Red</td>\n",
       "      <td>90.0</td>\n",
       "      <td>high</td>\n",
       "    </tr>\n",
       "    <tr>\n",
       "      <th>480</th>\n",
       "      <td>Galactus</td>\n",
       "      <td>Galan</td>\n",
       "      <td>(Galan) Taa; (Galactus) the Cosmic Egg</td>\n",
       "      <td>Marvel Comics</td>\n",
       "      <td>876.84</td>\n",
       "      <td>16.20</td>\n",
       "      <td>M</td>\n",
       "      <td>1966.0</td>\n",
       "      <td>Black</td>\n",
       "      <td>Black</td>\n",
       "      <td>100.0</td>\n",
       "      <td>high</td>\n",
       "    </tr>\n",
       "    <tr>\n",
       "      <th>495</th>\n",
       "      <td>Fin Fang Foom</td>\n",
       "      <td>NaN</td>\n",
       "      <td>NaN</td>\n",
       "      <td>Marvel Comics</td>\n",
       "      <td>975.37</td>\n",
       "      <td>19.00</td>\n",
       "      <td>M</td>\n",
       "      <td>NaN</td>\n",
       "      <td>Red</td>\n",
       "      <td>No Hair</td>\n",
       "      <td>85.0</td>\n",
       "      <td>average</td>\n",
       "    </tr>\n",
       "    <tr>\n",
       "      <th>548</th>\n",
       "      <td>Darkseid</td>\n",
       "      <td>Uxas</td>\n",
       "      <td>NaN</td>\n",
       "      <td>DC Comics</td>\n",
       "      <td>267.37</td>\n",
       "      <td>817.57</td>\n",
       "      <td>M</td>\n",
       "      <td>1970.0</td>\n",
       "      <td>Red</td>\n",
       "      <td>No Hair</td>\n",
       "      <td>100.0</td>\n",
       "      <td>high</td>\n",
       "    </tr>\n",
       "  </tbody>\n",
       "</table>\n",
       "</div>"
      ],
      "text/plain": [
       "              Name           Identity  \\\n",
       "175      Sasquatch  Walter Langkowski   \n",
       "202       Red Hulk   Thaddeus E. Ross   \n",
       "377     Juggernaut         Cain Marko   \n",
       "425           Hulk       Bruce Banner   \n",
       "451          Groot              Groot   \n",
       "466        Giganta         Doris Zuel   \n",
       "480       Galactus              Galan   \n",
       "495  Fin Fang Foom                NaN   \n",
       "548       Darkseid               Uxas   \n",
       "\n",
       "                                 Birth place      Publisher  Height  Weight  \\\n",
       "175               Edmonton, Alberta, Canada   Marvel Comics  305.02  900.70   \n",
       "202                                      NaN  Marvel Comics  213.98  630.09   \n",
       "377                     Berkeley, California  Marvel Comics  287.95  855.82   \n",
       "425                             Dayton, Ohio  Marvel Comics  244.40  630.90   \n",
       "451                                      NaN  Marvel Comics  701.12    4.82   \n",
       "466                                      NaN      DC Comics   62.65  630.80   \n",
       "480  (Galan) Taa; (Galactus) the Cosmic Egg   Marvel Comics  876.84   16.20   \n",
       "495                                      NaN  Marvel Comics  975.37   19.00   \n",
       "548                                      NaN      DC Comics  267.37  817.57   \n",
       "\n",
       "    Gender  First appearance Eye color Hair color  Strength Intelligence  \n",
       "175      M               NaN       Red     Orange      80.0         good  \n",
       "202      M            2008.0    Yellow      Black     100.0      average  \n",
       "377      M            1965.0      Blue        Red     100.0      average  \n",
       "425      M            1962.0     Green      Green     100.0         high  \n",
       "451      M            1960.0    Yellow        NaN      85.0         good  \n",
       "466      F            1944.0     Green        Red      90.0         high  \n",
       "480      M            1966.0     Black      Black     100.0         high  \n",
       "495      M               NaN       Red    No Hair      85.0      average  \n",
       "548      M            1970.0       Red    No Hair     100.0         high  "
      ]
     },
     "execution_count": 4,
     "metadata": {},
     "output_type": "execute_result"
    }
   ],
   "source": [
    "df[(data['Height']>=500) | (data['Weight']>=600)]"
   ]
  },
  {
   "cell_type": "code",
   "execution_count": 5,
   "metadata": {},
   "outputs": [
    {
     "data": {
      "image/png": "[encoded data removed]",
      "text/plain": [
       "<Figure size 432x288 with 1 Axes>"
      ]
     },
     "metadata": {},
     "output_type": "display_data"
    }
   ],
   "source": [
    "pub=df['Publisher']\n",
    "marvel= pub[(df['Publisher']=='Marvel Comics') & (df['Publisher'].notna())].count()\n",
    "dc= pub[(df['Publisher']=='DC Comics') & (df['Publisher'].notna())].count()\n",
    "other = pub[(df['Publisher']!='DC Comics') & (df['Publisher']!='Marvel Comics')].count()\n",
    "\n",
    "\n",
    "fig=plt.figure()\n",
    "ax=plt.subplot(111)\n",
    "\n",
    "ax.pie([marvel, dc, other], labels=[\"Marvel\", \"DC\", \"Other\"])\n",
    "box = ax.get_position()\n",
    "ax.legend(loc='center left', bbox_to_anchor=(1,0.5,0.5,0.102), mode=\"expand\")\n",
    "plt.axis(\"equal\")\n",
    "\n",
    "plt.show()"
   ]
  },
  {
   "cell_type": "code",
   "execution_count": 9,
   "metadata": {},
   "outputs": [
    {
     "data": {
      "image/png": "[encoded data removed]",
      "text/plain": [
       "<Figure size 1080x360 with 5 Axes>"
      ]
     },
     "metadata": {
      "needs_background": "light"
     },
     "output_type": "display_data"
    }
   ],
   "source": [
    "males=df[df['Gender']==\"M\"]\n",
    "female=df[df['Gender']==\"F\"]\n",
    "fig=plt.figure(figsize=[15.0,5.0])\n",
    "sps1, sps2 = GridSpec(1,2)\n",
    "\n",
    "baxes = brokenaxes(ylims=((0,20),(110,120)), hspace=0.2, subplot_spec=sps1)\n",
    "\n",
    "baxes.grid()\n",
    "baxes.hist(males[\"Height\"], int(round(males['Height'].count()/10)))\n",
    "plt.title(\"Male height\")\n",
    "\n",
    "baxes = brokenaxes(subplot_spec=sps2)\n",
    "baxes.grid()\n",
    "baxes.hist(female[\"Height\"]/100, int(round(female['Height'].count()/10)))\n",
    "plt.title(\"Female height\")\n",
    "\n",
    "plt.show()"
   ]
  },
  {
   "cell_type": "code",
   "execution_count": null,
   "metadata": {},
   "outputs": [],
   "source": [
    "df[df['Gender']==\"F\"].count()"
   ]
  }
 ],
 "metadata": {
  "kernelspec": {
   "display_name": "Python 3",
   "language": "python",
   "name": "python3"
  },
  "language_info": {
   "codemirror_mode": {
    "name": "ipython",
    "version": 3
   },
   "file_extension": ".py",
   "mimetype": "text/x-python",
   "name": "python",
   "nbconvert_exporter": "python",
   "pygments_lexer": "ipython3",
   "version": "3.7.4"
  }
 },
 "nbformat": 4,
 "nbformat_minor": 4
}
