{
 "cells": [
  {
   "cell_type": "code",
   "execution_count": 1,
   "metadata": {},
   "outputs": [],
   "source": [
    "import pandas as pd\n",
    "import numpy as np\n",
    "import matplotlib.pyplot as plt\n",
    "import csv\n",
    "from brokenaxes import brokenaxes\n",
    "from matplotlib.gridspec import GridSpec\n",
    "import scipy.stats as st"
   ]
  },
  {
   "cell_type": "code",
   "execution_count": 81,
   "metadata": {},
   "outputs": [
    {
     "data": {
      "text/html": [
       "<div>\n",
       "<style scoped>\n",
       "    .dataframe tbody tr th:only-of-type {\n",
       "        vertical-align: middle;\n",
       "    }\n",
       "\n",
       "    .dataframe tbody tr th {\n",
       "        vertical-align: top;\n",
       "    }\n",
       "\n",
       "    .dataframe thead th {\n",
       "        text-align: right;\n",
       "    }\n",
       "</style>\n",
       "<table border=\"1\" class=\"dataframe\">\n",
       "  <thead>\n",
       "    <tr style=\"text-align: right;\">\n",
       "      <th></th>\n",
       "      <th>Anno</th>\n",
       "      <th>Mese</th>\n",
       "      <th>Media</th>\n",
       "      <th>Massima</th>\n",
       "      <th>Giorno di rilevamento massima</th>\n",
       "      <th>Minima</th>\n",
       "      <th>Giorno di rilevamento minima</th>\n",
       "      <th>Note</th>\n",
       "    </tr>\n",
       "  </thead>\n",
       "  <tbody>\n",
       "    <tr>\n",
       "      <th>0</th>\n",
       "      <td>2014</td>\n",
       "      <td>1</td>\n",
       "      <td>6.0</td>\n",
       "      <td>9.6</td>\n",
       "      <td>10</td>\n",
       "      <td>2.1</td>\n",
       "      <td>30</td>\n",
       "      <td>NaN</td>\n",
       "    </tr>\n",
       "    <tr>\n",
       "      <th>1</th>\n",
       "      <td>2014</td>\n",
       "      <td>2</td>\n",
       "      <td>7.5</td>\n",
       "      <td>9.7</td>\n",
       "      <td>22</td>\n",
       "      <td>5.0</td>\n",
       "      <td>8</td>\n",
       "      <td>NaN</td>\n",
       "    </tr>\n",
       "    <tr>\n",
       "      <th>2</th>\n",
       "      <td>2014</td>\n",
       "      <td>3</td>\n",
       "      <td>11.9</td>\n",
       "      <td>16.5</td>\n",
       "      <td>17</td>\n",
       "      <td>6.5</td>\n",
       "      <td>1</td>\n",
       "      <td>NaN</td>\n",
       "    </tr>\n",
       "    <tr>\n",
       "      <th>3</th>\n",
       "      <td>2014</td>\n",
       "      <td>4</td>\n",
       "      <td>15.4</td>\n",
       "      <td>19.6</td>\n",
       "      <td>26</td>\n",
       "      <td>10.2</td>\n",
       "      <td>19</td>\n",
       "      <td>NaN</td>\n",
       "    </tr>\n",
       "    <tr>\n",
       "      <th>4</th>\n",
       "      <td>2014</td>\n",
       "      <td>5</td>\n",
       "      <td>18.4</td>\n",
       "      <td>21.3</td>\n",
       "      <td>21</td>\n",
       "      <td>13.4</td>\n",
       "      <td>2</td>\n",
       "      <td>NaN</td>\n",
       "    </tr>\n",
       "  </tbody>\n",
       "</table>\n",
       "</div>"
      ],
      "text/plain": [
       "   Anno  Mese  Media  Massima  Giorno di rilevamento massima  Minima  \\\n",
       "0  2014     1    6.0      9.6                             10     2.1   \n",
       "1  2014     2    7.5      9.7                             22     5.0   \n",
       "2  2014     3   11.9     16.5                             17     6.5   \n",
       "3  2014     4   15.4     19.6                             26    10.2   \n",
       "4  2014     5   18.4     21.3                             21    13.4   \n",
       "\n",
       "   Giorno di rilevamento minima  Note  \n",
       "0                            30   NaN  \n",
       "1                             8   NaN  \n",
       "2                             1   NaN  \n",
       "3                            19   NaN  \n",
       "4                             2   NaN  "
      ]
     },
     "execution_count": 81,
     "metadata": {},
     "output_type": "execute_result"
    }
   ],
   "source": [
    "data = df=pd.read_csv('temp.csv', sep=';', decimal=',')\n",
    "ny= df=pd.read_csv('newyork.txt', sep=';', decimal=',')\n",
    "data.head()"
   ]
  },
  {
   "cell_type": "code",
   "execution_count": 88,
   "metadata": {},
   "outputs": [
    {
     "data": {
      "image/png": "[encoded data removed]",
      "text/plain": [
       "<Figure size 432x288 with 1 Axes>"
      ]
     },
     "metadata": {
      "needs_background": "light"
     },
     "output_type": "display_data"
    }
   ],
   "source": [
    "year=2008\n",
    "col = ny.loc[: , \"min\":\"max\"]\n",
    "ny['mean'] = col.mean(axis=1)\n",
    "df=data[(data['Anno']==year) & ((data['Mese']==6) |  (data['Mese']==7) | (data['Mese']==8))]\n",
    "x=[1,2,3]\n",
    "y=df['Media']\n",
    "plt.grid()\n",
    "plt.plot(ny['Mese'], ny['mean'], 'o-')\n",
    "plt.plot(x, y, 'o-')\n",
    "plt.ylim(0,50)\n",
    "plt.show()"
   ]
  }
 ],
 "metadata": {
  "kernelspec": {
   "display_name": "Python 3",
   "language": "python",
   "name": "python3"
  },
  "language_info": {
   "codemirror_mode": {
    "name": "ipython",
    "version": 3
   },
   "file_extension": ".py",
   "mimetype": "text/x-python",
   "name": "python",
   "nbconvert_exporter": "python",
   "pygments_lexer": "ipython3",
   "version": "3.7.6"
  }
 },
 "nbformat": 4,
 "nbformat_minor": 4
}
